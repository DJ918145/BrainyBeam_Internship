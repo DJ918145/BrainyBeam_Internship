{
 "cells": [
  {
   "cell_type": "markdown",
   "id": "6e033e85",
   "metadata": {},
   "source": [
    "# Creating a Custom DataFrame."
   ]
  },
  {
   "cell_type": "code",
   "execution_count": 1,
   "id": "8e4ca805",
   "metadata": {},
   "outputs": [],
   "source": [
    "# import necessary library\n",
    "import pandas as pd"
   ]
  },
  {
   "cell_type": "code",
   "execution_count": 3,
   "id": "3124f2bf",
   "metadata": {},
   "outputs": [
    {
     "data": {
      "text/plain": [
       "<bound method NDFrame.sample of     Department Employee  Sales\n",
       "0  Electronics    Alice   1000\n",
       "1  Electronics      Bob   4000\n",
       "2     Clothing  Charlie   1500\n",
       "3     Clothing    David    500\n",
       "4     Clothing      Eva   1000>"
      ]
     },
     "execution_count": 3,
     "metadata": {},
     "output_type": "execute_result"
    }
   ],
   "source": [
    "data = {\n",
    "    'Department': ['Electronics', 'Electronics', 'Clothing', 'Clothing', 'Clothing'],\n",
    "    'Employee': ['Alice', 'Bob', 'Charlie', 'David', 'Eva'],\n",
    "    'Sales': [1000, 4000, 1500, 500, 1000]\n",
    "}\n",
    "\n",
    "#converting data into dataframe\n",
    "df = pd.DataFrame(data)\n",
    "df.sample"
   ]
  },
  {
   "cell_type": "markdown",
   "id": "d0de4527",
   "metadata": {},
   "source": [
    "# Custom Transformation"
   ]
  },
  {
   "cell_type": "code",
   "execution_count": null,
   "id": "1e8272fa",
   "metadata": {},
   "outputs": [
    {
     "name": "stdout",
     "output_type": "stream",
     "text": [
      "    Department Employee  Sales     Sales%  TopPerformer\n",
      "0     Clothing  Charlie   1500  50.000000         False\n",
      "1     Clothing    David    500  16.666667         False\n",
      "2     Clothing      Eva   1000  33.333333         False\n",
      "3  Electronics    Alice   1000  20.000000         False\n",
      "4  Electronics      Bob   4000  80.000000          True\n"
     ]
    },
    {
     "name": "stderr",
     "output_type": "stream",
     "text": [
      "C:\\Users\\DHRUV JAIN\\AppData\\Local\\Temp\\ipykernel_3644\\1385047388.py:20: DeprecationWarning: DataFrameGroupBy.apply operated on the grouping columns. This behavior is deprecated, and in a future version of pandas the grouping columns will be excluded from the operation. Either pass `include_groups=False` to exclude the groupings or explicitly select the grouping columns after groupby to silence this warning.\n",
      "  transformed_df = df.groupby('Department').apply(transform_sales).reset_index(drop=True)\n"
     ]
    }
   ],
   "source": [
    "# Custom Transformation Function\n",
    "def transform_sales(group):\n",
    "    group['Sales%'] = group['Sales'] / group['Sales'].sum() * 100\n",
    "    group['TopPerformer'] = group['Sales%'] > 50\n",
    "    return group\n",
    "\n",
    "# Apply transformation\n",
    "transformed_df = df.groupby('Department').apply(transform_sales).reset_index(drop=True)\n",
    "\n",
    "# Output the result\n",
    "print(transformed_df)\n"
   ]
  }
 ],
 "metadata": {
  "kernelspec": {
   "display_name": "Python 3",
   "language": "python",
   "name": "python3"
  },
  "language_info": {
   "codemirror_mode": {
    "name": "ipython",
    "version": 3
   },
   "file_extension": ".py",
   "mimetype": "text/x-python",
   "name": "python",
   "nbconvert_exporter": "python",
   "pygments_lexer": "ipython3",
   "version": "3.12.10"
  }
 },
 "nbformat": 4,
 "nbformat_minor": 5
}
