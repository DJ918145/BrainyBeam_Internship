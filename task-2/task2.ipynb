{
 "cells": [
  {
   "cell_type": "markdown",
   "id": "24fa7cb2",
   "metadata": {},
   "source": [
    "# Task for normalization and z-score"
   ]
  },
  {
   "cell_type": "code",
   "execution_count": 1,
   "id": "dd92202c",
   "metadata": {},
   "outputs": [],
   "source": [
    "import pandas as pd\n",
    "from sklearn.preprocessing import MinMaxScaler, MaxAbsScaler, RobustScaler, Normalizer\n"
   ]
  },
  {
   "cell_type": "code",
   "execution_count": 2,
   "id": "b25a7408",
   "metadata": {},
   "outputs": [
    {
     "data": {
      "text/plain": [
       "<bound method NDFrame.head of                                Region                Country        Item_Type  \\\n",
       "0               Australia and Oceania                 Tuvalu        Baby Food   \n",
       "1   Central America and the Caribbean                Grenada           Cereal   \n",
       "2                              Europe                 Russia  Office Supplies   \n",
       "3                  Sub_Saharan Africa  Sao Tome and Principe           Fruits   \n",
       "4                  Sub_Saharan Africa                 Rwanda  Office Supplies   \n",
       "..                                ...                    ...              ...   \n",
       "95                 Sub_Saharan Africa                   Mali          Clothes   \n",
       "96                               Asia               Malaysia           Fruits   \n",
       "97                 Sub_Saharan Africa           Sierra Leone       Vegetables   \n",
       "98                      North America                 Mexico    Personal Care   \n",
       "99                 Sub_Saharan Africa             Mozambique        Household   \n",
       "\n",
       "   Sales_Channel Order_Priority   Ship_Date  Unit_Cost  Total_Revenue  \\\n",
       "0        Offline              H  27/06/2010     159.42     2533654.00   \n",
       "1         Online              C  15/09/2012     117.11      576782.80   \n",
       "2        Offline              L  05/08/2014     524.96     1158502.59   \n",
       "3         Online              C  07/05/2014       6.92       75591.66   \n",
       "4        Offline              L  02/06/2013     524.96     3296425.02   \n",
       "..           ...            ...         ...        ...            ...   \n",
       "95        Online              M  09/03/2011      35.84       97040.64   \n",
       "96       Offline              L  28/12/2011       6.92       58471.11   \n",
       "97       Offline              C  29/06/2016      90.93      228779.10   \n",
       "98       Offline              M  08/08/2015      56.67      471336.91   \n",
       "99       Offline              L  15/02/2012     502.54     3586605.09   \n",
       "\n",
       "    Total_Profit  Unnamed: 9  Unnamed: 10  \n",
       "0      951410.50         NaN          NaN  \n",
       "1      248406.36         NaN          NaN  \n",
       "2      224598.75         NaN          NaN  \n",
       "3       19525.82         NaN          NaN  \n",
       "4      639077.50         NaN          NaN  \n",
       "..           ...         ...          ...  \n",
       "95      65214.72         NaN          NaN  \n",
       "96      15103.47         NaN          NaN  \n",
       "97      93748.05         NaN          NaN  \n",
       "98     144521.02         NaN          NaN  \n",
       "99     889472.91         NaN          NaN  \n",
       "\n",
       "[100 rows x 11 columns]>"
      ]
     },
     "execution_count": 2,
     "metadata": {},
     "output_type": "execute_result"
    }
   ],
   "source": [
    "df = pd.read_csv('100_Sales.csv')\n",
    "df.head"
   ]
  },
  {
   "cell_type": "code",
   "execution_count": 6,
   "id": "02ccf0e6",
   "metadata": {},
   "outputs": [
    {
     "name": "stdout",
     "output_type": "stream",
     "text": [
      "<class 'pandas.core.frame.DataFrame'>\n",
      "RangeIndex: 100 entries, 0 to 99\n",
      "Data columns (total 5 columns):\n",
      " #   Column         Non-Null Count  Dtype  \n",
      "---  ------         --------------  -----  \n",
      " 0   Unit_Cost      100 non-null    float64\n",
      " 1   Total_Revenue  100 non-null    float64\n",
      " 2   Total_Profit   100 non-null    float64\n",
      " 3   Unnamed: 9     0 non-null      float64\n",
      " 4   Unnamed: 10    0 non-null      float64\n",
      "dtypes: float64(5)\n",
      "memory usage: 4.0 KB\n"
     ]
    }
   ],
   "source": [
    "# Choosing Numerical colums for Normalization\n",
    "num_cols = df.select_dtypes(include=['float64', 'int64']).columns\n",
    "df_num = df[num_cols]\n",
    "df_num.info()"
   ]
  },
  {
   "cell_type": "code",
   "execution_count": 7,
   "id": "fd334a80",
   "metadata": {},
   "outputs": [
    {
     "data": {
      "text/plain": [
       "Region            100\n",
       "Country           100\n",
       "Item_Type         100\n",
       "Sales_Channel     100\n",
       "Order_Priority    100\n",
       "Ship_Date         100\n",
       "Unit_Cost         100\n",
       "Total_Revenue     100\n",
       "Total_Profit      100\n",
       "Unnamed: 9        100\n",
       "Unnamed: 10       100\n",
       "dtype: int64"
      ]
     },
     "execution_count": 7,
     "metadata": {},
     "output_type": "execute_result"
    }
   ],
   "source": [
    "df.notnull().count()"
   ]
  },
  {
   "cell_type": "code",
   "execution_count": 11,
   "id": "c9d03905",
   "metadata": {},
   "outputs": [
    {
     "data": {
      "text/plain": [
       "Unit_Cost        0\n",
       "Total_Revenue    0\n",
       "Total_Profit     0\n",
       "dtype: int64"
      ]
     },
     "execution_count": 11,
     "metadata": {},
     "output_type": "execute_result"
    }
   ],
   "source": [
    "df_num.isnull().sum()"
   ]
  },
  {
   "cell_type": "code",
   "execution_count": 10,
   "id": "e0c1d692",
   "metadata": {},
   "outputs": [
    {
     "name": "stderr",
     "output_type": "stream",
     "text": [
      "C:\\Users\\DHRUV JAIN\\AppData\\Local\\Temp\\ipykernel_19072\\3682640744.py:1: SettingWithCopyWarning: \n",
      "A value is trying to be set on a copy of a slice from a DataFrame\n",
      "\n",
      "See the caveats in the documentation: https://pandas.pydata.org/pandas-docs/stable/user_guide/indexing.html#returning-a-view-versus-a-copy\n",
      "  df_num.drop(['Unnamed: 9', 'Unnamed: 10'], axis=1, inplace=True)\n"
     ]
    }
   ],
   "source": [
    "df_num.drop(['Unnamed: 9', 'Unnamed: 10'], axis=1, inplace=True)"
   ]
  },
  {
   "cell_type": "code",
   "execution_count": 15,
   "id": "0d19dd2c",
   "metadata": {},
   "outputs": [
    {
     "name": "stderr",
     "output_type": "stream",
     "text": [
      "C:\\Users\\DHRUV JAIN\\AppData\\Local\\Packages\\PythonSoftwareFoundation.Python.3.12_qbz5n2kfra8p0\\LocalCache\\local-packages\\Python312\\site-packages\\sklearn\\utils\\_array_api.py:695: RuntimeWarning: All-NaN slice encountered\n",
      "  return xp.asarray(numpy.nanmin(X, axis=axis))\n",
      "C:\\Users\\DHRUV JAIN\\AppData\\Local\\Packages\\PythonSoftwareFoundation.Python.3.12_qbz5n2kfra8p0\\LocalCache\\local-packages\\Python312\\site-packages\\sklearn\\utils\\_array_api.py:712: RuntimeWarning: All-NaN slice encountered\n",
      "  return xp.asarray(numpy.nanmax(X, axis=axis))\n"
     ]
    }
   ],
   "source": [
    "min_max = MinMaxScaler()\n",
    "scaled_data = min_max.fit_transform(df_num)\n",
    "df_minmax = pd.DataFrame(scaled_data, columns=num_cols)\n"
   ]
  },
  {
   "cell_type": "code",
   "execution_count": 16,
   "id": "fc88d948",
   "metadata": {},
   "outputs": [
    {
     "name": "stderr",
     "output_type": "stream",
     "text": [
      "C:\\Users\\DHRUV JAIN\\AppData\\Local\\Packages\\PythonSoftwareFoundation.Python.3.12_qbz5n2kfra8p0\\LocalCache\\local-packages\\Python312\\site-packages\\sklearn\\utils\\_array_api.py:712: RuntimeWarning: All-NaN slice encountered\n",
      "  return xp.asarray(numpy.nanmax(X, axis=axis))\n"
     ]
    }
   ],
   "source": [
    "max_abs = MaxAbsScaler()\n",
    "df_maxabs = pd.DataFrame(max_abs.fit_transform(df_num), columns=num_cols)"
   ]
  },
  {
   "cell_type": "code",
   "execution_count": 17,
   "id": "682e99d5",
   "metadata": {},
   "outputs": [
    {
     "name": "stderr",
     "output_type": "stream",
     "text": [
      "C:\\Users\\DHRUV JAIN\\AppData\\Local\\Packages\\PythonSoftwareFoundation.Python.3.12_qbz5n2kfra8p0\\LocalCache\\local-packages\\Python312\\site-packages\\sklearn\\preprocessing\\_data.py:1614: RuntimeWarning: All-NaN slice encountered\n",
      "  self.center_ = np.nanmedian(X, axis=0)\n",
      "C:\\Users\\DHRUV JAIN\\AppData\\Local\\Packages\\PythonSoftwareFoundation.Python.3.12_qbz5n2kfra8p0\\LocalCache\\local-packages\\Python312\\site-packages\\numpy\\lib\\nanfunctions.py:1384: RuntimeWarning: All-NaN slice encountered\n",
      "  return _nanquantile_unchecked(\n"
     ]
    }
   ],
   "source": [
    "robust = RobustScaler()\n",
    "df_robust = pd.DataFrame(robust.fit_transform(df_num), columns=num_cols)"
   ]
  },
  {
   "cell_type": "code",
   "execution_count": 38,
   "id": "b99bb05e",
   "metadata": {},
   "outputs": [
    {
     "name": "stdout",
     "output_type": "stream",
     "text": [
      "Unit_Cost        0\n",
      "Total_Revenue    0\n",
      "Total_Profit     0\n",
      "dtype: int64\n"
     ]
    }
   ],
   "source": [
    "# Drop columns with all NaN values\n",
    "df_num = df_num.dropna(axis=1, how='all')\n",
    "\n",
    "print(df_num.isnull().sum())\n"
   ]
  },
  {
   "cell_type": "code",
   "execution_count": 39,
   "id": "5823595d",
   "metadata": {},
   "outputs": [
    {
     "name": "stdout",
     "output_type": "stream",
     "text": [
      "Any nulls left? False\n",
      "   Unit_Cost  Total_Revenue  Total_Profit\n",
      "0   0.000059       0.936172      0.351541\n",
      "1   0.000186       0.918444      0.395551\n",
      "2   0.000445       0.981721      0.190326\n",
      "3   0.000089       0.968221      0.250098\n",
      "4   0.000156       0.981721      0.190326\n"
     ]
    }
   ],
   "source": [
    "from sklearn.preprocessing import Normalizer\n",
    "\n",
    "# Step 1: Keep only numeric columns again\n",
    "# df_num = df_num.select_dtypes(include=['number'])\n",
    "\n",
    "# Step 2: Fill missing values with column means\n",
    "# df_num_filled = df_num.fillna(df_num.mean())\n",
    "\n",
    "# Step 3: Final check — should be False\n",
    "print(\"Any nulls left?\", df_num.isnull().values.any())\n",
    "\n",
    "# Step 4: Apply L2 Normalization\n",
    "l2_norm = Normalizer(norm='l2')\n",
    "df_l2 = pd.DataFrame(l2_norm.fit_transform(df_num), columns=df_num.columns)\n",
    "\n",
    "# Done!\n",
    "print(df_l2.head())\n"
   ]
  },
  {
   "cell_type": "code",
   "execution_count": 40,
   "id": "f3af6462",
   "metadata": {},
   "outputs": [
    {
     "name": "stdout",
     "output_type": "stream",
     "text": [
      "Min-Max:\n",
      "    Unit_Cost  Total_Revenue  Total_Profit  Unnamed: 9  Unnamed: 10\n",
      "0   0.294379       0.422014      0.552844         NaN          NaN\n",
      "1   0.212706       0.095443      0.143803         NaN          NaN\n",
      "2   1.000000       0.192523      0.129950         NaN          NaN\n",
      "3   0.000000       0.011802      0.010629         NaN          NaN\n",
      "4   1.000000       0.549308      0.371114         NaN          NaN\n",
      "Max-Abs:\n",
      "    Unit_Cost  Total_Revenue  Total_Profit  Unnamed: 9  Unnamed: 10\n",
      "0   0.303680       0.422483      0.553171         NaN          NaN\n",
      "1   0.223084       0.096178      0.144429         NaN          NaN\n",
      "2   1.000000       0.193179      0.130587         NaN          NaN\n",
      "3   0.013182       0.012605      0.011353         NaN          NaN\n",
      "4   1.000000       0.549674      0.371574         NaN          NaN\n",
      "Robust:\n",
      "    Unit_Cost  Total_Revenue  Total_Profit  Unnamed: 9  Unnamed: 10\n",
      "0   0.229219       0.916646      1.284334         NaN          NaN\n",
      "1   0.043233      -0.090325     -0.082354         NaN          NaN\n",
      "2   1.836059       0.209017     -0.128638         NaN          NaN\n",
      "3  -0.441140      -0.348230     -0.527313         NaN          NaN\n",
      "4   1.836059       1.309154      0.677137         NaN          NaN\n",
      "L2 Norm:\n",
      "    Unit_Cost  Total_Revenue  Total_Profit\n",
      "0   0.000059       0.936172      0.351541\n",
      "1   0.000186       0.918444      0.395551\n",
      "2   0.000445       0.981721      0.190326\n",
      "3   0.000089       0.968221      0.250098\n",
      "4   0.000156       0.981721      0.190326\n"
     ]
    }
   ],
   "source": [
    "print(\"Min-Max:\\n\", df_minmax.head())\n",
    "print(\"Max-Abs:\\n\", df_maxabs.head())\n",
    "print(\"Robust:\\n\", df_robust.head())\n",
    "print(\"L2 Norm:\\n\", df_l2.head())"
   ]
  },
  {
   "cell_type": "markdown",
   "id": "df878b53",
   "metadata": {},
   "source": [
    "# Apply Z-Score Normalization and Mean-centering of Sales dataset"
   ]
  },
  {
   "cell_type": "code",
   "execution_count": 41,
   "id": "2700a28a",
   "metadata": {},
   "outputs": [],
   "source": [
    "from sklearn.preprocessing import StandardScaler\n"
   ]
  },
  {
   "cell_type": "code",
   "execution_count": 44,
   "id": "e3fff9c9",
   "metadata": {},
   "outputs": [],
   "source": [
    "df_num = df.select_dtypes(include=['number'])\n",
    "num_cols = df_num.columns"
   ]
  },
  {
   "cell_type": "code",
   "execution_count": null,
   "id": "c9c5d531",
   "metadata": {},
   "outputs": [
    {
     "name": "stderr",
     "output_type": "stream",
     "text": [
      "C:\\Users\\DHRUV JAIN\\AppData\\Local\\Packages\\PythonSoftwareFoundation.Python.3.12_qbz5n2kfra8p0\\LocalCache\\local-packages\\Python312\\site-packages\\sklearn\\utils\\extmath.py:1137: RuntimeWarning: invalid value encountered in divide\n",
      "  updated_mean = (last_sum + new_sum) / updated_sample_count\n",
      "C:\\Users\\DHRUV JAIN\\AppData\\Local\\Packages\\PythonSoftwareFoundation.Python.3.12_qbz5n2kfra8p0\\LocalCache\\local-packages\\Python312\\site-packages\\sklearn\\utils\\extmath.py:1142: RuntimeWarning: invalid value encountered in divide\n",
      "  T = new_sum / new_sample_count\n",
      "C:\\Users\\DHRUV JAIN\\AppData\\Local\\Packages\\PythonSoftwareFoundation.Python.3.12_qbz5n2kfra8p0\\LocalCache\\local-packages\\Python312\\site-packages\\sklearn\\utils\\extmath.py:1162: RuntimeWarning: invalid value encountered in divide\n",
      "  new_unnormalized_variance -= correction**2 / new_sample_count\n"
     ]
    }
   ],
   "source": [
    "scaler = StandardScaler()\n",
    "df_zscore = pd.DataFrame(scaler.fit_transform(df_num), columns=num_cols)\n"
   ]
  },
  {
   "cell_type": "code",
   "execution_count": 46,
   "id": "054f2949",
   "metadata": {},
   "outputs": [
    {
     "name": "stdout",
     "output_type": "stream",
     "text": [
      "   Unit_Cost  Total_Revenue  Total_Profit  Unnamed: 9  Unnamed: 10\n",
      "0  -0.168895       0.798622      1.168192         NaN          NaN\n",
      "1  -0.394831      -0.548427     -0.442948         NaN          NaN\n",
      "2   1.783101      -0.147989     -0.497510         NaN          NaN\n",
      "3  -0.983250      -0.893431     -0.967494         NaN          NaN\n",
      "4   1.783101       1.323690      0.452390         NaN          NaN\n"
     ]
    }
   ],
   "source": [
    "print(df_zscore.head())"
   ]
  },
  {
   "cell_type": "code",
   "execution_count": null,
   "id": "182a47d7",
   "metadata": {},
   "outputs": [],
   "source": []
  }
 ],
 "metadata": {
  "kernelspec": {
   "display_name": "Python 3",
   "language": "python",
   "name": "python3"
  },
  "language_info": {
   "codemirror_mode": {
    "name": "ipython",
    "version": 3
   },
   "file_extension": ".py",
   "mimetype": "text/x-python",
   "name": "python",
   "nbconvert_exporter": "python",
   "pygments_lexer": "ipython3",
   "version": "3.12.10"
  }
 },
 "nbformat": 4,
 "nbformat_minor": 5
}
